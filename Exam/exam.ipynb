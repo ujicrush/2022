{
 "cells": [
  {
   "cell_type": "markdown",
   "id": "09e9a536",
   "metadata": {},
   "source": [
    "## ADA final exam (Fall 2022)\n",
    "\n",
    "This exam consists of 3 tasks. Tasks 2 and 3 are independent of each other (although conceptually related).\n"
   ]
  },
  {
   "cell_type": "markdown",
   "id": "68507ec4",
   "metadata": {},
   "source": [
    "## Dataset\n",
    "\n",
    "For a Wikipedia editor to become an administrator, a so-called “request for adminship” ([RfA](https://en.wikipedia.org/wiki/Wikipedia:Requests_for_adminship)) must be submitted by either the candidate or another community member. Subsequently, any Wikipedia member may cast a supporting or opposing vote. Here we provide a simplified version of the Wikipedia RfA dataset, containing all votes from 2003 through 2012.\n",
    "\n",
    "###  Data format\n",
    "\n",
    "|        |   SRC |   TGT |   VOT |   RES |   YEA | DAT                 | TXT                                                                                                                                                                                               |\n",
    "|-------:|------:|------:|------:|------:|------:|:--------------------|:--------------------------------------------------------------------------------------------------------------------------------------------------------------------------------------------------|\n",
    "|  39054 |  3444 | 10170 |     1 |     1 |  2009 | 2009-07-01 17:50:00 | '''Support''' - Best of luck. &nbsp;                                                                                                                                                              |\n",
    "| 159680 |   722 |  9634 |    -1 |    -1 |  2006 | 2006-12-15 07:28:00 | '''Oppose''' Not even 2000 edits.                                                                                                                                                                 |\n",
    "| 173438 |  4194 |  5524 |     1 |     1 |  2005 | 2005-03-18 19:22:00 | Ohhh, you're Carrp!  In that case, '''Support'''.                                                                                                                                                 |\n",
    "|  60627 |  4855 |  9436 |     1 |     1 |  2008 | 2008-12-18 23:26:00 | '''Support''' via thoughtful answer to my question that demonstrates this editor has clue.                                                 |\n",
    "| 194809 |  7687 |   908 |     1 |     1 |  2004 | 2004-09-25 05:21:00 | Nicholas is very good in English. Also, he got '''exceptional''' patience to explain petty obvious facts in talk page to convince ignorants. Let the world be benefitted more out of his work. -- |\n",
    "\n",
    "\n",
    "- SRC: the user name of the source of the vote, i.e., of the user who cast the vote.\n",
    "- TGT: the user name of the target of the vote, i.e., of the user running for election.\n",
    "- VOT: the source's vote on the target (-1 = oppose; 1 = support).\n",
    "- RES: the outcome of the election (-1 = target was rejected as admin; 1 = target was accepted). **(We will not use this  column in this exam.)**\n",
    "- YEA: the year of the RfA.\n",
    "- DAT: the date and time of this vote. **(We will not use this column in this exam.)**\n",
    "- TXT: the comment written by the source. **(We will not use this column in this exam.)**\n",
    "\n",
    "---\n"
   ]
  },
  {
   "cell_type": "markdown",
   "id": "4a4a661c",
   "metadata": {},
   "source": [
    "## Structural balance theory\n",
    "\n",
    "**Structural balance theory** affirms that social networks tend to be organized so as to avoid conflictual situations, e.g., if a great friend of yours hates someone, you will likely not befriend that person.\n",
    "\n",
    "The theory can be operationalized by looking at _triangles_ in an undirected _signed graph_ capturing person-to-person relationships, where a _signed graph_ is a  graph in which each edge is associated with a positive or negative sign, and a _triangle_ is a set of three edges ($\\langle u,v \\rangle$, $\\langle v,w\\rangle$, $\\langle u,w\\rangle$) that fully connect three distinct nodes ($u, v, w$).\n",
    "\n",
    "\n",
    "\n",
    "_Triangles_ in an undirected signed graph can be in 4 _configurations_:\n",
    "all positive edges ($\\{+,+,+\\}$); \n",
    "all negative edges ($\\{-,-,-\\}$); \n",
    "two positive edges and one negative edge ($\\{+,+,-\\}$);\n",
    "one positive edge and two negative edges ($\\{+,-,-\\}$).\n",
    "\n",
    "Structural balance theory posits that social networks tend to favor triangle configurations with an even number of negative signs (i.e., $\\{+,+,+\\}$ and $\\{+,-,-\\}$), which can be understood as being “balanced” by avoiding conflictual situations. Intuitively, $\\{+,+,+\\}$ could be tagged as “The friend of my friend is my friend”, and $\\{+,-,-\\}$ as “The enemy of my enemy is my friend”, “The friend of my enemy is my enemy”, or “The enemy of my friend is my enemy”. On the contrary, triangle configurations with an odd number of negative signs (i.e., $\\{+,+,-\\}$ and $\\{-,-,-\\}$) are unstable (“unbalanced”) according to structural balance theory and will thus occur less frequently in social networks. For instance, me being friends with two mutual enemies ($\\{+,+,-\\}$) would lead to tension that could be resolved if the two enemies became friends or if I took sides and ended my friendship with one of the two. Similarly, two among three mutual enemies ($\\{-,-,-\\}$) would have the incentive to form an alliance to “gang up” against the third.\n",
    "\n",
    "Some social scientists have argued that three mutual enemies ($\\{-,-,-\\}$) is not necessarily a triangle configuration that social networks tend to avoid. This gives rise to **weak structural balance theory**, which only posits that social networks tend to avoid the “unbalanced” triangle configuration $\\{+,+,-\\}$.\n",
    "\n",
    "In a nutshell,\n",
    "- structural balance theory\n",
    "  - considers $\\{+,+,+\\}$, $\\{+,-,-\\}$ as balanced,\n",
    "  - and $\\{+,+,-\\}$, $\\{-,-,-\\}$ as unbalanced;\n",
    "- weak structural balance theory\n",
    "  - considers $\\{+,+,+\\}$, $\\{+,-,-\\}$, $\\{-,-,-\\}$ as balanced,\n",
    "  - and $\\{+,+,-\\}$ as unbalanced.\n",
    "\n"
   ]
  },
  {
   "cell_type": "markdown",
   "id": "d5f337c9",
   "metadata": {},
   "source": [
    "### Task 1: Preliminaries\n",
    "\n",
    "As a good data scientist, you first load the data and explore it.\n",
    "\n",
    "**1.1**\n",
    "Load the csv file `wiki-RfA.csv.gz` in a pandas dataframe. Calculate the number of distinct RfAs and the average number of votes per RfA.\n",
    "- **Hint:** Throughout this question, assume that each RfA is uniquely determined by the column `TGT` and each vote is uniquely determined by the combination of `SRC` and `TGT`."
   ]
  },
  {
   "cell_type": "code",
   "execution_count": 1,
   "id": "ff2e92a5",
   "metadata": {},
   "outputs": [
    {
     "data": {
      "text/html": [
       "<div>\n",
       "<style scoped>\n",
       "    .dataframe tbody tr th:only-of-type {\n",
       "        vertical-align: middle;\n",
       "    }\n",
       "\n",
       "    .dataframe tbody tr th {\n",
       "        vertical-align: top;\n",
       "    }\n",
       "\n",
       "    .dataframe thead th {\n",
       "        text-align: right;\n",
       "    }\n",
       "</style>\n",
       "<table border=\"1\" class=\"dataframe\">\n",
       "  <thead>\n",
       "    <tr style=\"text-align: right;\">\n",
       "      <th></th>\n",
       "      <th>SRC</th>\n",
       "      <th>TGT</th>\n",
       "      <th>VOT</th>\n",
       "      <th>RES</th>\n",
       "      <th>YEA</th>\n",
       "      <th>DAT</th>\n",
       "      <th>TXT</th>\n",
       "    </tr>\n",
       "  </thead>\n",
       "  <tbody>\n",
       "    <tr>\n",
       "      <th>35198</th>\n",
       "      <td>10700</td>\n",
       "      <td>5965</td>\n",
       "      <td>1</td>\n",
       "      <td>1</td>\n",
       "      <td>2009</td>\n",
       "      <td>2009-06-24 00:22:00</td>\n",
       "      <td>'''Support''' looking fine.--</td>\n",
       "    </tr>\n",
       "    <tr>\n",
       "      <th>117085</th>\n",
       "      <td>9287</td>\n",
       "      <td>9231</td>\n",
       "      <td>1</td>\n",
       "      <td>1</td>\n",
       "      <td>2006</td>\n",
       "      <td>2006-09-14 23:51:00</td>\n",
       "      <td>'''Support''' No cliche.  I've had the knowled...</td>\n",
       "    </tr>\n",
       "    <tr>\n",
       "      <th>156214</th>\n",
       "      <td>3373</td>\n",
       "      <td>5636</td>\n",
       "      <td>-1</td>\n",
       "      <td>-1</td>\n",
       "      <td>2005</td>\n",
       "      <td>2005-09-28 14:02:00</td>\n",
       "      <td>'''Oppose''', per Kate's tool (which is workin...</td>\n",
       "    </tr>\n",
       "  </tbody>\n",
       "</table>\n",
       "</div>"
      ],
      "text/plain": [
       "          SRC   TGT  VOT  RES   YEA                  DAT  \\\n",
       "35198   10700  5965    1    1  2009  2009-06-24 00:22:00   \n",
       "117085   9287  9231    1    1  2006  2006-09-14 23:51:00   \n",
       "156214   3373  5636   -1   -1  2005  2005-09-28 14:02:00   \n",
       "\n",
       "                                                      TXT  \n",
       "35198                       '''Support''' looking fine.--  \n",
       "117085  '''Support''' No cliche.  I've had the knowled...  \n",
       "156214  '''Oppose''', per Kate's tool (which is workin...  "
      ]
     },
     "execution_count": 1,
     "metadata": {},
     "output_type": "execute_result"
    }
   ],
   "source": [
    "# 1.1\n",
    "import numpy as np\n",
    "import pandas as pd\n",
    "import matplotlib.pyplot as plt\n",
    "\n",
    "df = pd.read_csv(\"wiki-RfA.csv.gz\")\n",
    "df.sample(3)"
   ]
  },
  {
   "cell_type": "code",
   "execution_count": 9,
   "id": "aa92b2b9",
   "metadata": {},
   "outputs": [
    {
     "name": "stdout",
     "output_type": "stream",
     "text": [
      "number of distinct RfAs: 3439\n",
      "avg number of votes per RfA: 48.561500436173304\n"
     ]
    }
   ],
   "source": [
    "df1 = df.groupby(df['TGT'])['SRC'].count()\n",
    "print(\"number of distinct RfAs:\", df1.shape[0])\n",
    "print(\"avg number of votes per RfA:\", df1.mean())"
   ]
  },
  {
   "cell_type": "markdown",
   "id": "813b5a32",
   "metadata": {},
   "source": [
    "**1.2** \n",
    "In a single figure with three subfigures (one per item), show the following time series:\n",
    "- the number of RfAs per year;\n",
    "- the overall fraction of positive votes per year; and \n",
    "- the average number of votes per RfA per year.\n",
    "\n",
    "For each of the above three quantities, print the value for the year 2008."
   ]
  },
  {
   "cell_type": "code",
   "execution_count": 34,
   "id": "b1732d7e",
   "metadata": {},
   "outputs": [
    {
     "name": "stdout",
     "output_type": "stream",
     "text": [
      "a) # RfA 2008: 520\n",
      "b) Fraction 2008: 0.7612268475384787\n",
      "c) Avg. # votes per RfA: 51.60192307692308\n"
     ]
    },
    {
     "data": {
      "image/png": "[encoded data removed]",
      "text/plain": [
       "<Figure size 1200x300 with 3 Axes>"
      ]
     },
     "metadata": {},
     "output_type": "display_data"
    }
   ],
   "source": [
    "# 1.2 \n",
    "fig, axs = plt.subplots(1, 3, figsize=(12,3))\n",
    "\n",
    "tmp = df.groupby([\"YEA\", \"TGT\"]).VOT\n",
    "\n",
    "tmp_a = tmp.count().reset_index().groupby(\"YEA\").TGT.count() \n",
    "axs[0].plot(tmp_a) \n",
    "axs[0].scatter(tmp_a.index, tmp_a) \n",
    "axs[0].set_title(\"a) # RfA\")\n",
    "axs[0].set_xlabel(\"Year\")\n",
    "print(\"a) # RfA 2008:\", tmp_a.loc[2008])\n",
    "\n",
    "tmp_b = df.groupby([\"YEA\"]).VOT.apply(lambda x: np.mean(x > 0))\n",
    "axs[1].plot(tmp_b)\n",
    "axs[1].scatter(tmp_b.index, tmp_b)\n",
    "axs[1].set_title(\"b) % Positive Votes\")\n",
    "axs[1].set_xlabel(\"Year\")\n",
    "print(\"b) Fraction 2008:\", tmp_b.loc[2008])\n",
    "\n",
    "tmp_c = tmp.count().reset_index().groupby('YEA').VOT.mean()\n",
    "axs[2].plot(tmp_c) \n",
    "axs[2].scatter(tmp_c.index, tmp_c) \n",
    "axs[2].set_title(\"c) Avg. # votes per RfA\")\n",
    "axs[2].set_xlabel(\"Year\")\n",
    "print(\"c) Avg. # votes per RfA:\", tmp_c.loc[2008])"
   ]
  },
  {
   "cell_type": "markdown",
   "id": "366d38d9",
   "metadata": {},
   "source": [
    "**1.3** \n",
    "**/Discuss:/** Describe the temporal patterns observed in the plots you did in **T1.2**."
   ]
  },
  {
   "cell_type": "markdown",
   "id": "e77900f8",
   "metadata": {},
   "source": [
    "**A1.3** \n",
    "*YOUR ANSWER HERE*"
   ]
  },
  {
   "cell_type": "markdown",
   "id": "81126c89",
   "metadata": {},
   "source": [
    "**1.4** \n",
    "Create an undirected graph ([`nx.Graph`](https://networkx.org/documentation/stable/reference/classes/graph.html)) where every node corresponds to a Wikipedia user (source or target of an RfA) and where there exists an edge between two users if at least one of them has voted on the other. Each edge should have attributes corresponding to columns of the dataframe, namely:\n",
    "- `VOT`, which equals `1` if the vote was positive, and `-1` otherwise.\n",
    "- `YEA`, an integer that represents the year of the RfA.\n",
    "\n",
    "**The code to load the graph has been provided to you!** After running it, print the number of nodes and edges in your graph.\n",
    "\n",
    "---\n",
    "\n",
    "**Observation:** Note that we have at most one edge per pair of nodes in the graph, even though two votes may be associated with the pair  — e.g., if A voted in B's RfA in time $t_1$ and B voted in A's RfA in time $t_2$ ($t_1 < t_2$). In these cases, the code provided associates the metadata of the oldest vote ($t_1$ in the example) to the edge between A and B."
   ]
  },
  {
   "cell_type": "code",
   "execution_count": 35,
   "id": "e57d4776",
   "metadata": {},
   "outputs": [],
   "source": [
    "# Provided code! Do not change!\n",
    "import networkx as nx\n",
    "import pandas as pd\n",
    "G = nx.from_pandas_edgelist(pd.read_csv(\"./wiki-RfA.csv.gz\"), \n",
    "                            'SRC', 'TGT', ['VOT', 'RES', 'YEA', 'DAT'], create_using=nx.Graph)"
   ]
  },
  {
   "cell_type": "code",
   "execution_count": 36,
   "id": "f21ec7a6",
   "metadata": {},
   "outputs": [
    {
     "name": "stdout",
     "output_type": "stream",
     "text": [
      "Graph with 10831 nodes and 161147 edges\n"
     ]
    }
   ],
   "source": [
    "# 1.4\n",
    "print(G)"
   ]
  },
  {
   "cell_type": "markdown",
   "id": "37cbd1b8",
   "metadata": {},
   "source": [
    "**1.5** \n",
    "Plot the **complementary** cumulative distribution of the degree centrality of the undirected graph. Use a logarithmic (base 10) x-axis and a linear y-axis."
   ]
  },
  {
   "cell_type": "code",
   "execution_count": 41,
   "id": "c1edfd6a",
   "metadata": {},
   "outputs": [
    {
     "data": {
      "text/plain": [
       "Text(0.5, 0, 'Degree centrality')"
      ]
     },
     "execution_count": 41,
     "metadata": {},
     "output_type": "execute_result"
    },
    {
     "data": {
      "image/png": "[encoded data removed]",
      "text/plain": [
       "<Figure size 640x480 with 1 Axes>"
      ]
     },
     "metadata": {},
     "output_type": "display_data"
    }
   ],
   "source": [
    "# 1.5\n",
    "import seaborn as sns\n",
    "import matplotlib.pyplot as plt\n",
    "\n",
    "sns.ecdfplot(list(dict(G.degree()).values()), complementary=True)\n",
    "plt.xscale(\"log\")\n",
    "plt.axvline(10)\n",
    "plt.axhline(0.4)\n",
    "plt.title(\"Complementary CDF\")\n",
    "plt.xlabel(\"Degree centrality\")"
   ]
  },
  {
   "cell_type": "markdown",
   "id": "935be3bf",
   "metadata": {},
   "source": [
    "\n",
    "**1.6**\n",
    "**/Discuss:/** Why is the following statement false? Justify your answer. **\"From the graph obtained in task 1.5, one can conclude that around 40% of the users voted at least 11 times.\"**\n"
   ]
  },
  {
   "cell_type": "markdown",
   "id": "3316f395",
   "metadata": {},
   "source": [
    "**A1.6**\n",
    "*YOUR ANSWER HERE*"
   ]
  },
  {
   "cell_type": "markdown",
   "id": "9d1d5f4a",
   "metadata": {},
   "source": [
    "**1.7**\n",
    "What fraction of users voted at least 11 times? Use the data to measure the fraction."
   ]
  },
  {
   "cell_type": "code",
   "execution_count": 45,
   "id": "a167a11b",
   "metadata": {},
   "outputs": [],
   "source": [
    "# 1.7\n",
    "G_ = nx.from_pandas_edgelist(df, 'SRC', 'TGT', ['VOT', 'RES', 'YEA'], create_using=nx.MultiDiGraph())"
   ]
  },
  {
   "cell_type": "code",
   "execution_count": 53,
   "id": "5e498964",
   "metadata": {},
   "outputs": [],
   "source": [
    "frac_11times = df.groupby(df['SRC']).VOT.count()"
   ]
  },
  {
   "cell_type": "code",
   "execution_count": 54,
   "id": "075172a1",
   "metadata": {},
   "outputs": [],
   "source": [
    "person_vote = len(frac_11times)"
   ]
  },
  {
   "cell_type": "code",
   "execution_count": 55,
   "id": "8906b5bd",
   "metadata": {},
   "outputs": [],
   "source": [
    "person_vote_11times = len(frac_11times.loc[frac_11times.values>=11])"
   ]
  },
  {
   "cell_type": "code",
   "execution_count": 56,
   "id": "0e38abbc",
   "metadata": {},
   "outputs": [
    {
     "name": "stdout",
     "output_type": "stream",
     "text": [
      "0.27459977567043947\n"
     ]
    }
   ],
   "source": [
    "frac = person_vote_11times/person_vote\n",
    "print(frac)"
   ]
  },
  {
   "cell_type": "markdown",
   "id": "35b05b29",
   "metadata": {},
   "source": [
    "### Task 2: Triangles\n",
    "\n",
    "Next, you set out to investigate the social balance theory by looking at the RfA graph.\n",
    "\n",
    "**2.1**\n",
    "Considering _only_ the RfAs of 2004 (i.e., where `YEA == 2004`), generate all triangles in the undirected graph.\n",
    "Print the number of triangles found.\n",
    "- **Hint:** Note that you can generate a graph with only a subset of nodes and edges via ` G.edge_subgraph`.\n",
    "-  **Hint:** The function `nx.enumerate_all_cliques` generates all cliques in an undirected graph. First, all cliques of size 1 are generated, then all cliques of size 2, etc. Triangles are cliques of size 3.\n"
   ]
  },
  {
   "cell_type": "code",
   "execution_count": 58,
   "id": "b39a403e",
   "metadata": {},
   "outputs": [],
   "source": [
    "# 2.1\n",
    "df2 = df.loc[df['YEA']==2004]\n",
    "G_2004 = nx.from_pandas_edgelist(df2, 'SRC', 'TGT', ['VOT', 'RES', 'YEA'], create_using=nx.Graph)"
   ]
  },
  {
   "cell_type": "code",
   "execution_count": 59,
   "id": "3505853d",
   "metadata": {},
   "outputs": [
    {
     "name": "stdout",
     "output_type": "stream",
     "text": [
      "8448\n"
     ]
    }
   ],
   "source": [
    "clique = list(nx.enumerate_all_cliques(G_2004))\n",
    "num_triangles = 0\n",
    "for c in clique:\n",
    "    if len(c)==3:\n",
    "        num_triangles = num_triangles+1\n",
    "\n",
    "print(num_triangles)\n"
   ]
  },
  {
   "cell_type": "markdown",
   "id": "9b8ac389",
   "metadata": {},
   "source": [
    "**2.2 ** **/True or false:/** Is the following statement true or false? Justify your answer. **\"The node with the highest clustering coefficient in an undirected graph is the node that belongs to the largest number of triangles.\"**"
   ]
  },
  {
   "cell_type": "markdown",
   "id": "f961eef7",
   "metadata": {},
   "source": [
    "**A2.2**\n",
    "*YOUR ANSWER HERE*"
   ]
  },
  {
   "cell_type": "markdown",
   "id": "e2f5b22c",
   "metadata": {},
   "source": [
    "**2.3** Considering the set of triangles previously calculated, estimate the fraction of triangles of configurations\n",
    " $\\{+,+,+\\}$,  $\\{-,-,-\\}$,  $\\{+,+,-\\}$, and $\\{+,-,-\\}$. What fraction of triangles are \"balanced\" according to structural balance theory?"
   ]
  },
  {
   "cell_type": "code",
   "execution_count": 60,
   "id": "f858e94c",
   "metadata": {},
   "outputs": [],
   "source": [
    "# 2.3\n",
    "clique = list(nx.enumerate_all_cliques(G_2004))\n",
    "clique = [c for c in clique if len(c)==3]"
   ]
  },
  {
   "cell_type": "code",
   "execution_count": 64,
   "id": "aadc7675",
   "metadata": {},
   "outputs": [
    {
     "name": "stdout",
     "output_type": "stream",
     "text": [
      "{-,-,-}: 0.005208333333333333\n",
      "{+,-,-}: 0.06273674242424243\n",
      "{+,+,-}: 0.13944128787878787\n",
      "{+,+,+}: 0.7926136363636364\n",
      "balanced: 0.8553503787878788\n"
     ]
    }
   ],
   "source": [
    "counter = {\n",
    "    (-1,-1,-1): 0,\n",
    "    (-1,-1,1): 0,\n",
    "    (-1,1,1): 0,\n",
    "    (1,1,1): 0\n",
    "}\n",
    "\n",
    "for tmp in clique:\n",
    "    x=nx.get_edge_attributes(G_2004.subgraph(tmp),'VOT')\n",
    "    x=tuple(sorted([sign for (u,v),sign in x.items()]))\n",
    "    counter[x] +=1\n",
    "\n",
    "print(\"{-,-,-}:\", counter[(-1, -1, -1)]/num_triangles)\n",
    "print(\"{+,-,-}:\", counter[(-1, -1, 1)]/num_triangles)\n",
    "print(\"{+,+,-}:\", counter[(-1, 1, 1)]/num_triangles)\n",
    "print(\"{+,+,+}:\", counter[(1, 1, 1)]/num_triangles)\n",
    "print(\"balanced:\",(counter[(-1, -1, 1)]+counter[(1, 1, 1)])/num_triangles)"
   ]
  },
  {
   "cell_type": "markdown",
   "id": "97e6f9f0",
   "metadata": {},
   "source": [
    "**2.4** To observe how triangle configurations would be distributed under a random null model, do the following:\n",
    "- Create a new column `VOT_RND` in the dataframe, where RfA votes (i.e., edge signs in the graph) are shuffled, i.e., permuted randomly.  For shuffling, use `numpy.random`, without replacement and with the seed 32 (see code provided below).\n",
    "- Create a new edge attribute with the values of `VOT_RND` in the graph you created in task **1.4**. You can do this easily using the  [`set_edge_attributes`](https://networkx.org/documentation/stable/reference/generated/networkx.classes.function.set_edge_attributes.html) function.\n",
    "- Considering the shuffled edge signs,  compute the fraction of triangles in each configuration ($\\{+,+,+\\}$,  $\\{-,-,-\\}$,  $\\{+,+,-\\}$, $\\{+,-,-\\}$). Moreover, compute the fraction of triangles that are \"balanced\" according to structural balance theory. (Reminder: consider only the RfAs of 2004.)\n"
   ]
  },
  {
   "cell_type": "code",
   "execution_count": 65,
   "id": "8b4cba61",
   "metadata": {},
   "outputs": [],
   "source": [
    "# PROVIDED STUB FOR 2.4\n",
    "import numpy as np\n",
    "np.random.seed(32)\n",
    "df_2004 = df[df.YEA == 2004].copy(deep=True)\n",
    "df_2004[\"VOT_RND\"] = np.random.choice(df_2004[\"VOT\"].values, size=len(df_2004), replace=False)"
   ]
  },
  {
   "cell_type": "code",
   "execution_count": 68,
   "id": "49cf240b",
   "metadata": {},
   "outputs": [],
   "source": [
    "# 2.4\n",
    "G_2004 = nx.from_pandas_edgelist(df_2004, 'SRC', 'TGT', ['VOT', 'RES', 'YEA', 'VOT_RND'], create_using=nx.Graph)"
   ]
  },
  {
   "cell_type": "code",
   "execution_count": 69,
   "id": "13287eaa",
   "metadata": {},
   "outputs": [
    {
     "name": "stdout",
     "output_type": "stream",
     "text": [
      "{-,-,-}: 0.001893939393939394\n",
      "{+,-,-}: 0.03444602272727273\n",
      "{+,+,-}: 0.2779356060606061\n",
      "{+,+,+}: 0.6857244318181818\n",
      "balanced: 0.7201704545454546\n"
     ]
    }
   ],
   "source": [
    "clique = list(nx.enumerate_all_cliques(G_2004))\n",
    "num_triangles = 0\n",
    "for c in clique:\n",
    "    if len(c)==3:\n",
    "        num_triangles = num_triangles+1\n",
    "\n",
    "clique = [c for c in clique if len(c)==3]\n",
    "\n",
    "counter = {\n",
    "    (-1,-1,-1): 0,\n",
    "    (-1,-1,1): 0,\n",
    "    (-1,1,1): 0,\n",
    "    (1,1,1): 0\n",
    "}\n",
    "\n",
    "for tmp in clique:\n",
    "    x=nx.get_edge_attributes(G_2004.subgraph(tmp),'VOT_RND')\n",
    "    x=tuple(sorted([sign for (u,v),sign in x.items()]))\n",
    "    counter[x] +=1\n",
    "\n",
    "print(\"{-,-,-}:\", counter[(-1, -1, -1)]/num_triangles)\n",
    "print(\"{+,-,-}:\", counter[(-1, -1, 1)]/num_triangles)\n",
    "print(\"{+,+,-}:\", counter[(-1, 1, 1)]/num_triangles)\n",
    "print(\"{+,+,+}:\", counter[(1, 1, 1)]/num_triangles)\n",
    "print(\"balanced:\",(counter[(-1, -1, 1)]+counter[(1, 1, 1)])/num_triangles)"
   ]
  },
  {
   "cell_type": "markdown",
   "id": "f055a145",
   "metadata": {},
   "source": [
    "**2.5** **/Discuss:/** Do the results of tasks **2.3** and **2.4** suggest that structural balance theory is correct? What kind of subsequent analysis would make you trust that the results are not obtained simply by chance? (No need to actually perform that subsequent analysis here.) Justify your answer."
   ]
  },
  {
   "cell_type": "markdown",
   "id": "dcd070a6",
   "metadata": {},
   "source": [
    "**A2.5** *YOUR ANSWER HERE*"
   ]
  },
  {
   "cell_type": "markdown",
   "id": "d5252ffb",
   "metadata": {},
   "source": [
    "### Interlude: Additional data\n",
    "\n",
    "In the data provided in the file `wiki-RfA.csv.gz` (with which you’ve worked up to now), each column corresponds to a vote from a user $u$ to a user $v$ at a time $t$. \n",
    "\n",
    "In **Task 2**, we did not consider the temporal aspect of this network. For the next task, you are provided with a complimentary dataset (`data/wiki-RfA_extra.csv.gz`) containing, for each vote (uniquely determined by `SRC` and `TGT`), a variety of features. **Importantly, these features were calculated considering only data that was already available at the time when the respective vote was cast.** The features are described as follows.\n",
    "\n",
    "- `PP`, `NN`, `PN` — Each vote (signed edge) is part of zero or more triangles, and we computed the number of triangles in which the two remaining edges were both positive (`PP`), both negative (`NN`) and of different signs (i.e., one positive and one negative, `PN`). This considers only the votes the target (denoted by `TGT`) has received before the current vote. \n",
    "\n",
    "- `P`, `N` — The number of positive (`P`) and negative (`N`) votes that the target `TGT` received before the current vote.\n",
    "\n",
    "- `TXT_PROCESSED` — The text in the original dataset, processed so 1) it is entirely lower-case, 2) it does not contain non-alphanumeric characters, and 3) it does not contain words starting with “supp” or “opp” (since words such as \"support\" and \"oppose\"  are obvious give-away signals of the vote).\n",
    "\n",
    "### Interlude: Predicting edge signs with structural balance theory\n",
    "\n",
    "We can use structural balance theory to predict edge signs. \n",
    "\n",
    "Consider an edge whose sign we do not know, as well as the fractions `PP`, `NN`, and `PN` associated with the edge, as defined above. \n",
    "\n",
    "According to structural balance theory, if `PP` + `NN` $\\geq$ `PN`, the vote is predicted to be positive, as this will create more balanced triangles in the graph. Otherwise, it is predicted to be negative. \n",
    "\n",
    "According to the weak structural balance theory, if `PP` $\\geq$ `PN`, the vote is predicted to be positive, as this will create more balanced triangles in the graph. Otherwise, it is predicted to be negative. \n",
    "\n",
    "Note that in both cases we use “$\\geq$” rather than “<”, i.e., when both sides of the equation are equal, we break ties in favor of positive edges. We do so because there are more positive edges in the graph."
   ]
  },
  {
   "cell_type": "markdown",
   "id": "e2f20eed",
   "metadata": {},
   "source": [
    "### Task 3: Predict it!\n",
    "\n",
    "In the final part of the exam, you will leverage your machine learning and regression skills.\n",
    "\n",
    "**3.1** Merge the new dataset with the original dataframe from task **1** using the columns `SRC` and `TGT`. You may drop the old `TXT` column if you want to. \n"
   ]
  },
  {
   "cell_type": "code",
   "execution_count": 79,
   "id": "a2272113",
   "metadata": {},
   "outputs": [
    {
     "data": {
      "text/html": [
       "<div>\n",
       "<style scoped>\n",
       "    .dataframe tbody tr th:only-of-type {\n",
       "        vertical-align: middle;\n",
       "    }\n",
       "\n",
       "    .dataframe tbody tr th {\n",
       "        vertical-align: top;\n",
       "    }\n",
       "\n",
       "    .dataframe thead th {\n",
       "        text-align: right;\n",
       "    }\n",
       "</style>\n",
       "<table border=\"1\" class=\"dataframe\">\n",
       "  <thead>\n",
       "    <tr style=\"text-align: right;\">\n",
       "      <th></th>\n",
       "      <th>SRC</th>\n",
       "      <th>TGT</th>\n",
       "      <th>VOT</th>\n",
       "      <th>RES</th>\n",
       "      <th>YEA</th>\n",
       "      <th>DAT</th>\n",
       "      <th>TXT</th>\n",
       "      <th>PP</th>\n",
       "      <th>NN</th>\n",
       "      <th>PN</th>\n",
       "      <th>N</th>\n",
       "      <th>P</th>\n",
       "      <th>TXT_PROCESSED</th>\n",
       "    </tr>\n",
       "  </thead>\n",
       "  <tbody>\n",
       "    <tr>\n",
       "      <th>164786</th>\n",
       "      <td>6083</td>\n",
       "      <td>2795</td>\n",
       "      <td>1</td>\n",
       "      <td>1</td>\n",
       "      <td>2004</td>\n",
       "      <td>2004-08-03 21:35:00</td>\n",
       "      <td>NaN</td>\n",
       "      <td>3</td>\n",
       "      <td>0</td>\n",
       "      <td>0</td>\n",
       "      <td>0</td>\n",
       "      <td>22</td>\n",
       "      <td>NaN</td>\n",
       "    </tr>\n",
       "    <tr>\n",
       "      <th>16005</th>\n",
       "      <td>4789</td>\n",
       "      <td>9532</td>\n",
       "      <td>1</td>\n",
       "      <td>1</td>\n",
       "      <td>2010</td>\n",
       "      <td>2010-10-04 21:51:00</td>\n",
       "      <td>'''Support''' Seems fine to me. --&lt;font color=...</td>\n",
       "      <td>0</td>\n",
       "      <td>0</td>\n",
       "      <td>0</td>\n",
       "      <td>1</td>\n",
       "      <td>34</td>\n",
       "      <td>seems fine to me font color black</td>\n",
       "    </tr>\n",
       "    <tr>\n",
       "      <th>36664</th>\n",
       "      <td>6562</td>\n",
       "      <td>9032</td>\n",
       "      <td>1</td>\n",
       "      <td>-1</td>\n",
       "      <td>2009</td>\n",
       "      <td>2009-05-27 06:00:00</td>\n",
       "      <td>'''Support''' good luck.</td>\n",
       "      <td>0</td>\n",
       "      <td>0</td>\n",
       "      <td>0</td>\n",
       "      <td>5</td>\n",
       "      <td>39</td>\n",
       "      <td>good luck</td>\n",
       "    </tr>\n",
       "  </tbody>\n",
       "</table>\n",
       "</div>"
      ],
      "text/plain": [
       "         SRC   TGT  VOT  RES   YEA                  DAT  \\\n",
       "164786  6083  2795    1    1  2004  2004-08-03 21:35:00   \n",
       "16005   4789  9532    1    1  2010  2010-10-04 21:51:00   \n",
       "36664   6562  9032    1   -1  2009  2009-05-27 06:00:00   \n",
       "\n",
       "                                                      TXT  PP  NN  PN  N   P  \\\n",
       "164786                                                NaN   3   0   0  0  22   \n",
       "16005   '''Support''' Seems fine to me. --<font color=...   0   0   0  1  34   \n",
       "36664                           '''Support''' good luck.    0   0   0  5  39   \n",
       "\n",
       "                              TXT_PROCESSED  \n",
       "164786                                  NaN  \n",
       "16005    seems fine to me font color black   \n",
       "36664                            good luck   "
      ]
     },
     "execution_count": 79,
     "metadata": {},
     "output_type": "execute_result"
    }
   ],
   "source": [
    "# 3.1\n",
    "new_df = pd.read_csv(\"wiki-RfA_extra.csv.gz\")\n",
    "merged_df = pd.merge(df,new_df,how='inner',on=[\"SRC\", \"TGT\", \"YEA\"])\n",
    "merged_df.sample(3)"
   ]
  },
  {
   "cell_type": "code",
   "execution_count": 80,
   "id": "96153416",
   "metadata": {},
   "outputs": [
    {
     "data": {
      "text/html": [
       "<div>\n",
       "<style scoped>\n",
       "    .dataframe tbody tr th:only-of-type {\n",
       "        vertical-align: middle;\n",
       "    }\n",
       "\n",
       "    .dataframe tbody tr th {\n",
       "        vertical-align: top;\n",
       "    }\n",
       "\n",
       "    .dataframe thead th {\n",
       "        text-align: right;\n",
       "    }\n",
       "</style>\n",
       "<table border=\"1\" class=\"dataframe\">\n",
       "  <thead>\n",
       "    <tr style=\"text-align: right;\">\n",
       "      <th></th>\n",
       "      <th>SRC</th>\n",
       "      <th>TGT</th>\n",
       "      <th>VOT</th>\n",
       "      <th>RES</th>\n",
       "      <th>YEA</th>\n",
       "      <th>DAT</th>\n",
       "      <th>PP</th>\n",
       "      <th>NN</th>\n",
       "      <th>PN</th>\n",
       "      <th>N</th>\n",
       "      <th>P</th>\n",
       "      <th>TXT_PROCESSED</th>\n",
       "    </tr>\n",
       "  </thead>\n",
       "  <tbody>\n",
       "    <tr>\n",
       "      <th>155074</th>\n",
       "      <td>126</td>\n",
       "      <td>8132</td>\n",
       "      <td>1</td>\n",
       "      <td>1</td>\n",
       "      <td>2005</td>\n",
       "      <td>2005-10-09 13:24:00</td>\n",
       "      <td>0</td>\n",
       "      <td>0</td>\n",
       "      <td>0</td>\n",
       "      <td>2</td>\n",
       "      <td>48</td>\n",
       "      <td>woohoo i m 50 he s always on irc and has seem...</td>\n",
       "    </tr>\n",
       "    <tr>\n",
       "      <th>135559</th>\n",
       "      <td>7190</td>\n",
       "      <td>9710</td>\n",
       "      <td>-1</td>\n",
       "      <td>-1</td>\n",
       "      <td>2006</td>\n",
       "      <td>2006-04-05 00:05:00</td>\n",
       "      <td>0</td>\n",
       "      <td>0</td>\n",
       "      <td>0</td>\n",
       "      <td>3</td>\n",
       "      <td>0</td>\n",
       "      <td>low user talk useage font color green user ad...</td>\n",
       "    </tr>\n",
       "    <tr>\n",
       "      <th>4155</th>\n",
       "      <td>162</td>\n",
       "      <td>555</td>\n",
       "      <td>1</td>\n",
       "      <td>1</td>\n",
       "      <td>2012</td>\n",
       "      <td>2012-05-28 01:06:00</td>\n",
       "      <td>0</td>\n",
       "      <td>0</td>\n",
       "      <td>0</td>\n",
       "      <td>1</td>\n",
       "      <td>29</td>\n",
       "      <td>this user has a lot of experience editing wik...</td>\n",
       "    </tr>\n",
       "  </tbody>\n",
       "</table>\n",
       "</div>"
      ],
      "text/plain": [
       "         SRC   TGT  VOT  RES   YEA                  DAT  PP  NN  PN  N   P  \\\n",
       "155074   126  8132    1    1  2005  2005-10-09 13:24:00   0   0   0  2  48   \n",
       "135559  7190  9710   -1   -1  2006  2006-04-05 00:05:00   0   0   0  3   0   \n",
       "4155     162   555    1    1  2012  2012-05-28 01:06:00   0   0   0  1  29   \n",
       "\n",
       "                                            TXT_PROCESSED  \n",
       "155074   woohoo i m 50 he s always on irc and has seem...  \n",
       "135559   low user talk useage font color green user ad...  \n",
       "4155     this user has a lot of experience editing wik...  "
      ]
     },
     "execution_count": 80,
     "metadata": {},
     "output_type": "execute_result"
    }
   ],
   "source": [
    "merged_df.drop('TXT', axis=1, inplace=True)\n",
    "merged_df.sample(3)"
   ]
  },
  {
   "cell_type": "markdown",
   "id": "c5d42a2d",
   "metadata": {},
   "source": [
    "**3.2**  Create the following two rule-based classifiers, and for each, estimate its area under the ROC curve (a.k.a. “AUC/ROC”) on the entire dataset:\n",
    "\n",
    "- **A)** a classifier inspired by structural balance theory. The classifier should predict a positive vote if  `PP` + `NN` $\\geq$ `PN`, and a negative vote otherwise.\n",
    "- **B)** a classifier inspired by weak structural balance theory. The classifier should predict a positive vote if `PP`  $\\geq$ `PN` and a negative vote otherwise."
   ]
  },
  {
   "cell_type": "code",
   "execution_count": 82,
   "id": "44643421",
   "metadata": {},
   "outputs": [
    {
     "name": "stdout",
     "output_type": "stream",
     "text": [
      "A) roc score 0.525390127858417\n",
      "B) roc score 0.528036104766419\n"
     ]
    }
   ],
   "source": [
    "# 3.2\n",
    "from sklearn.metrics import roc_auc_score\n",
    "\n",
    "y = (merged_df.VOT.values == 1).astype(int)\n",
    "\n",
    "y_pred_A = (merged_df.PP + merged_df.NN >= merged_df.PN).astype(int)\n",
    "print(\"A) roc score\",roc_auc_score(y,y_pred_A))\n",
    "\n",
    "y_pred_B = (merged_df.PP >= merged_df.PN).astype(int)\n",
    "print(\"B) roc score\",roc_auc_score(y,y_pred_B))"
   ]
  },
  {
   "cell_type": "markdown",
   "id": "0161ec09",
   "metadata": {},
   "source": [
    "**3.3** To determine if the differences in the classifiers from task **3.2** occur solely due to chance, follow the following bootstrap procedure, using 200 iterations:\n",
    "\n",
    "- **A)** Randomly sample the entire dataset (i.e., votes from the dataframe constructed in task **3.1**) with replacement;\n",
    "- **B)** Compute the difference of the AUC/ROC for the two classifiers on the entire dataset.\n",
    "\n",
    "Then use the distribution of AUC/ROC differences (one difference per bootstrap iteration) to estimate the 95% confidence interval for the AUC/ROC difference."
   ]
  },
  {
   "cell_type": "code",
   "execution_count": 83,
   "id": "817ee28f",
   "metadata": {},
   "outputs": [
    {
     "name": "stdout",
     "output_type": "stream",
     "text": [
      "95% CI: [-0.00305177 -0.00227558]\n"
     ]
    }
   ],
   "source": [
    "# 3.3 \n",
    "\n",
    "BF = []\n",
    "\n",
    "for i in range(200):\n",
    "    df_sample = merged_df.sample(frac=1, replace=True)\n",
    "    # A)\n",
    "    y = (df_sample.VOT.values == 1).astype(int)\n",
    "    y_pred = (df_sample.PP + df_sample.NN >= df_sample.PN).astype(int)\n",
    "    \n",
    "    BF1 = roc_auc_score(y, y_pred)\n",
    "\n",
    "    # B)\n",
    "    y = (df_sample.VOT.values == 1).astype(int)\n",
    "    y_pred = (df_sample.PP >= df_sample.PN).astype(int)\n",
    "    BF2 = roc_auc_score(y, y_pred)\n",
    "    \n",
    "    BF.append(BF1 - BF2)\n",
    "\n",
    "print(\"95% CI:\", np.quantile( np.array(BF), q=[0.025, 0.975]))"
   ]
  },
  {
   "cell_type": "markdown",
   "id": "4d0e1569",
   "metadata": {},
   "source": [
    "**3.4 ** **/Discuss:**/ According to the results in tasks **3.2** and **3.3**, which theory better predicts actual edge signs, structural balance theory or the weak structural balance theory? \n"
   ]
  },
  {
   "cell_type": "markdown",
   "id": "94b39801",
   "metadata": {},
   "source": [
    "**A3.4** *YOUR ANSWER HERE*"
   ]
  },
  {
   "cell_type": "markdown",
   "id": "28d37dc1",
   "metadata": {},
   "source": [
    "**3.5** How accurately can we predict the vote with more sophisticated features and algorithms?\n",
    "\n",
    "- Create a TF-IDF representation of the text of each vote  using `sklearn`'s vectorizer ([`sklearn.feature_extraction.text.TfidfVectorizer`](https://scikit-learn.org/stable/modules/generated/sklearn.feature_extraction.text.TfidfVectorizer.html)) with the parameters `max_features=150` and `stop_words='english'`.\n",
    "- Split the  dataset into training and test sets using sklearn [`sklearn.model_selection.train_test_split`](https://scikit-learn.org/stable/modules/generated/sklearn.model_selection.train_test_split.html) using parameters `test_size=0.1` and  `random_state=42`.\n",
    "\n",
    "- Then, train two logistic regression models ([`sklearn.linear_model.SGDClassifier`](https://scikit-learn.org/stable/modules/generated/sklearn.linear_model.SGDClassifier.html)) using parameters `loss='log_loss'` and `max_iter=2000` considering:\n",
    "\n",
    "    - **1)** the TF-IDF feature vector\n",
    "\n",
    "    - **2)** the TF-IDF feature vector and the features `PP`, `NN`, `PN`, `P`, and `N` related to the graph.\n",
    "\n",
    "- Last, report the AUC/ROC of each model in the test set."
   ]
  },
  {
   "cell_type": "code",
   "execution_count": 85,
   "id": "764a00f3",
   "metadata": {},
   "outputs": [
    {
     "name": "stdout",
     "output_type": "stream",
     "text": [
      "\n",
      "loss hinge / df_type: fillna\n",
      "After split / roc_auc_score (without extra features) 0.674124579121076\n",
      "After split / roc_auc_score (without extra features) 0.8072730770455273\n",
      "\n",
      "loss hinge / df_type: dropna\n",
      "After split / roc_auc_score (without extra features) 0.6849575312219962\n",
      "After split / roc_auc_score (without extra features) 0.7896094743222035\n",
      "\n",
      "loss log_loss / df_type: fillna\n",
      "After split / roc_auc_score (without extra features) 0.6990490909056859\n",
      "(with predict_proba) 0.8553744425649702\n",
      "After split / roc_auc_score (without extra features) 0.7415174260157225\n",
      "(with predict_proba) 0.8792686398304354\n",
      "\n",
      "loss log_loss / df_type: dropna\n",
      "After split / roc_auc_score (without extra features) 0.6966016616486942\n",
      "(with predict_proba) 0.8592956252494725\n",
      "After split / roc_auc_score (without extra features) 0.7719256829698732\n",
      "(with predict_proba) 0.9053398556088548\n"
     ]
    }
   ],
   "source": [
    "# 3.5\n",
    "from sklearn.feature_extraction.text import TfidfVectorizer\n",
    "from sklearn.linear_model import SGDClassifier\n",
    "from sklearn.model_selection import train_test_split\n",
    "\n",
    "for loss_v, merged_df_, df_type in zip(\n",
    "        [\"hinge\", \"hinge\", \"log_loss\", \"log_loss\"],\n",
    "        [merged_df.fillna(\"\"), merged_df.dropna(), merged_df.fillna(\"\"), merged_df.dropna()],\n",
    "        [\"fillna\", \"dropna\", \"fillna\", \"dropna\"]\n",
    "):\n",
    "    print(\"\\nloss\", loss_v, \"/ df_type:\", df_type)\n",
    "        #Using the TFIDF after the split\n",
    "    vectorizer = TfidfVectorizer( max_features=150, stop_words=\"english\")\n",
    "    y =  (merged_df_.VOT == 1).values.astype(int)\n",
    "    X_train, X_test, y_train, y_test = train_test_split(merged_df_[\"TXT_PROCESSED\"].values, y, test_size=0.1, random_state=42)\n",
    "    X_train = vectorizer.fit_transform(X_train).toarray()\n",
    "    X_test = vectorizer.transform(X_test).toarray()\n",
    "    clf = SGDClassifier(random_state=0, loss=loss_v).fit(X_train, y_train)\n",
    "    y_pred = clf.predict(X_test)\n",
    "    print(\"After split / roc_auc_score (without extra features)\", roc_auc_score(y_test, y_pred))\n",
    "    if loss_v != \"hinge\":\n",
    "        y_pred = clf.predict_proba(X_test)[:,1]\n",
    "        print(\"(with predict_proba)\", roc_auc_score(y_test, y_pred))\n",
    "        \n",
    "    X2_train, X2_test, _, _ = train_test_split(merged_df_[[\"PP\", \"NN\", \"PN\", \"N\", \"P\"]].values, y, test_size=0.1, random_state=42)\n",
    "\n",
    "    X_train = np.hstack((X_train, X2_train))\n",
    "    X_test = np.hstack((X_test, X2_test))\n",
    "\n",
    "    clf = SGDClassifier(random_state=0, loss=loss_v).fit(X_train, y_train)\n",
    "    y_pred = clf.predict(X_test)\n",
    "    print(\"After split / roc_auc_score (without extra features)\", roc_auc_score(y_test, y_pred))\n",
    "    if loss_v != \"hinge\":\n",
    "        y_pred = clf.predict_proba(X_test)[:,1]\n",
    "        print(\"(with predict_proba)\", roc_auc_score(y_test, y_pred))"
   ]
  },
  {
   "cell_type": "markdown",
   "id": "898cbdd1",
   "metadata": {},
   "source": [
    "**3.6** **/Discuss:**/  According to the results in task **3.5**, does information from the graph help in the task of predicting the vote even when using the text?  What kind of subsequent analysis would make you trust that the results are not obtained simply by chance? (No need to actually perform that subsequent analysis here.) "
   ]
  },
  {
   "cell_type": "markdown",
   "id": "6b6767ad",
   "metadata": {},
   "source": [
    "**A3.6** *YOUR ANSWER HERE*"
   ]
  },
  {
   "cell_type": "markdown",
   "id": "7f51071d",
   "metadata": {},
   "source": [
    "**3.7** Putting on your observational studies hat, run two logistic regressions using `statsmodels`.\n",
    "- In the first regression, the vote is the outcome, and `PP`, `NN` and `PN` are the predictors.\n",
    "- In the second regression, the vote is the outcome, and `PP`, `NN`, `PN`, and `N` are the predictors."
   ]
  },
  {
   "cell_type": "code",
   "execution_count": 86,
   "id": "9f8df411",
   "metadata": {},
   "outputs": [
    {
     "name": "stdout",
     "output_type": "stream",
     "text": [
      "Optimization terminated successfully.\n",
      "         Current function value: 0.514594\n",
      "         Iterations 7\n"
     ]
    },
    {
     "data": {
      "text/html": [
       "<table class=\"simpletable\">\n",
       "<caption>Logit Regression Results</caption>\n",
       "<tr>\n",
       "  <th>Dep. Variable:</th>         <td>VOT2</td>       <th>  No. Observations:  </th>  <td>167003</td> \n",
       "</tr>\n",
       "<tr>\n",
       "  <th>Model:</th>                 <td>Logit</td>      <th>  Df Residuals:      </th>  <td>166999</td> \n",
       "</tr>\n",
       "<tr>\n",
       "  <th>Method:</th>                 <td>MLE</td>       <th>  Df Model:          </th>  <td>     3</td> \n",
       "</tr>\n",
       "<tr>\n",
       "  <th>Date:</th>            <td>Wed, 08 Jan 2025</td> <th>  Pseudo R-squ.:     </th>  <td>0.01804</td>\n",
       "</tr>\n",
       "<tr>\n",
       "  <th>Time:</th>                <td>01:40:47</td>     <th>  Log-Likelihood:    </th> <td> -85939.</td>\n",
       "</tr>\n",
       "<tr>\n",
       "  <th>converged:</th>             <td>True</td>       <th>  LL-Null:           </th> <td> -87517.</td>\n",
       "</tr>\n",
       "<tr>\n",
       "  <th>Covariance Type:</th>     <td>nonrobust</td>    <th>  LLR p-value:       </th>  <td> 0.000</td> \n",
       "</tr>\n",
       "</table>\n",
       "<table class=\"simpletable\">\n",
       "<tr>\n",
       "      <td></td>         <th>coef</th>     <th>std err</th>      <th>z</th>      <th>P>|z|</th>  <th>[0.025</th>    <th>0.975]</th>  \n",
       "</tr>\n",
       "<tr>\n",
       "  <th>Intercept</th> <td>    1.2781</td> <td>    0.006</td> <td>  206.255</td> <td> 0.000</td> <td>    1.266</td> <td>    1.290</td>\n",
       "</tr>\n",
       "<tr>\n",
       "  <th>PP</th>        <td>    0.2493</td> <td>    0.007</td> <td>   34.272</td> <td> 0.000</td> <td>    0.235</td> <td>    0.264</td>\n",
       "</tr>\n",
       "<tr>\n",
       "  <th>NN</th>        <td>   -0.6765</td> <td>    0.040</td> <td>  -16.946</td> <td> 0.000</td> <td>   -0.755</td> <td>   -0.598</td>\n",
       "</tr>\n",
       "<tr>\n",
       "  <th>PN</th>        <td>   -0.5509</td> <td>    0.014</td> <td>  -40.304</td> <td> 0.000</td> <td>   -0.578</td> <td>   -0.524</td>\n",
       "</tr>\n",
       "</table>"
      ],
      "text/latex": [
       "\\begin{center}\n",
       "\\begin{tabular}{lclc}\n",
       "\\toprule\n",
       "\\textbf{Dep. Variable:}   &       VOT2       & \\textbf{  No. Observations:  } &   167003    \\\\\n",
       "\\textbf{Model:}           &      Logit       & \\textbf{  Df Residuals:      } &   166999    \\\\\n",
       "\\textbf{Method:}          &       MLE        & \\textbf{  Df Model:          } &        3    \\\\\n",
       "\\textbf{Date:}            & Wed, 08 Jan 2025 & \\textbf{  Pseudo R-squ.:     } &  0.01804    \\\\\n",
       "\\textbf{Time:}            &     01:40:47     & \\textbf{  Log-Likelihood:    } &   -85939.   \\\\\n",
       "\\textbf{converged:}       &       True       & \\textbf{  LL-Null:           } &   -87517.   \\\\\n",
       "\\textbf{Covariance Type:} &    nonrobust     & \\textbf{  LLR p-value:       } &    0.000    \\\\\n",
       "\\bottomrule\n",
       "\\end{tabular}\n",
       "\\begin{tabular}{lcccccc}\n",
       "                   & \\textbf{coef} & \\textbf{std err} & \\textbf{z} & \\textbf{P$> |$z$|$} & \\textbf{[0.025} & \\textbf{0.975]}  \\\\\n",
       "\\midrule\n",
       "\\textbf{Intercept} &       1.2781  &        0.006     &   206.255  &         0.000        &        1.266    &        1.290     \\\\\n",
       "\\textbf{PP}        &       0.2493  &        0.007     &    34.272  &         0.000        &        0.235    &        0.264     \\\\\n",
       "\\textbf{NN}        &      -0.6765  &        0.040     &   -16.946  &         0.000        &       -0.755    &       -0.598     \\\\\n",
       "\\textbf{PN}        &      -0.5509  &        0.014     &   -40.304  &         0.000        &       -0.578    &       -0.524     \\\\\n",
       "\\bottomrule\n",
       "\\end{tabular}\n",
       "%\\caption{Logit Regression Results}\n",
       "\\end{center}"
      ],
      "text/plain": [
       "<class 'statsmodels.iolib.summary.Summary'>\n",
       "\"\"\"\n",
       "                           Logit Regression Results                           \n",
       "==============================================================================\n",
       "Dep. Variable:                   VOT2   No. Observations:               167003\n",
       "Model:                          Logit   Df Residuals:                   166999\n",
       "Method:                           MLE   Df Model:                            3\n",
       "Date:                Wed, 08 Jan 2025   Pseudo R-squ.:                 0.01804\n",
       "Time:                        01:40:47   Log-Likelihood:                -85939.\n",
       "converged:                       True   LL-Null:                       -87517.\n",
       "Covariance Type:            nonrobust   LLR p-value:                     0.000\n",
       "==============================================================================\n",
       "                 coef    std err          z      P>|z|      [0.025      0.975]\n",
       "------------------------------------------------------------------------------\n",
       "Intercept      1.2781      0.006    206.255      0.000       1.266       1.290\n",
       "PP             0.2493      0.007     34.272      0.000       0.235       0.264\n",
       "NN            -0.6765      0.040    -16.946      0.000      -0.755      -0.598\n",
       "PN            -0.5509      0.014    -40.304      0.000      -0.578      -0.524\n",
       "==============================================================================\n",
       "\"\"\""
      ]
     },
     "execution_count": 86,
     "metadata": {},
     "output_type": "execute_result"
    }
   ],
   "source": [
    "# 3.7\n",
    "\n",
    "import statsmodels.formula.api as smf\n",
    "\n",
    "merged_df[\"VOT2\"] = (merged_df.VOT == 1).values.astype(int)\n",
    "smf.logit(\"VOT2 ~ PP + NN +PN\" , data=merged_df).fit().summary()"
   ]
  },
  {
   "cell_type": "code",
   "execution_count": 87,
   "id": "9024a5d8",
   "metadata": {},
   "outputs": [
    {
     "name": "stdout",
     "output_type": "stream",
     "text": [
      "Optimization terminated successfully.\n",
      "         Current function value: 0.487994\n",
      "         Iterations 7\n"
     ]
    },
    {
     "data": {
      "text/html": [
       "<table class=\"simpletable\">\n",
       "<caption>Logit Regression Results</caption>\n",
       "<tr>\n",
       "  <th>Dep. Variable:</th>         <td>VOT2</td>       <th>  No. Observations:  </th>  <td>167003</td> \n",
       "</tr>\n",
       "<tr>\n",
       "  <th>Model:</th>                 <td>Logit</td>      <th>  Df Residuals:      </th>  <td>166998</td> \n",
       "</tr>\n",
       "<tr>\n",
       "  <th>Method:</th>                 <td>MLE</td>       <th>  Df Model:          </th>  <td>     4</td> \n",
       "</tr>\n",
       "<tr>\n",
       "  <th>Date:</th>            <td>Wed, 08 Jan 2025</td> <th>  Pseudo R-squ.:     </th>  <td>0.06880</td>\n",
       "</tr>\n",
       "<tr>\n",
       "  <th>Time:</th>                <td>01:41:20</td>     <th>  Log-Likelihood:    </th> <td> -81496.</td>\n",
       "</tr>\n",
       "<tr>\n",
       "  <th>converged:</th>             <td>True</td>       <th>  LL-Null:           </th> <td> -87517.</td>\n",
       "</tr>\n",
       "<tr>\n",
       "  <th>Covariance Type:</th>     <td>nonrobust</td>    <th>  LLR p-value:       </th>  <td> 0.000</td> \n",
       "</tr>\n",
       "</table>\n",
       "<table class=\"simpletable\">\n",
       "<tr>\n",
       "      <td></td>         <th>coef</th>     <th>std err</th>      <th>z</th>      <th>P>|z|</th>  <th>[0.025</th>    <th>0.975]</th>  \n",
       "</tr>\n",
       "<tr>\n",
       "  <th>Intercept</th> <td>    1.6227</td> <td>    0.008</td> <td>  212.945</td> <td> 0.000</td> <td>    1.608</td> <td>    1.638</td>\n",
       "</tr>\n",
       "<tr>\n",
       "  <th>PP</th>        <td>    0.2535</td> <td>    0.008</td> <td>   33.344</td> <td> 0.000</td> <td>    0.239</td> <td>    0.268</td>\n",
       "</tr>\n",
       "<tr>\n",
       "  <th>NN</th>        <td>   -0.5466</td> <td>    0.040</td> <td>  -13.631</td> <td> 0.000</td> <td>   -0.625</td> <td>   -0.468</td>\n",
       "</tr>\n",
       "<tr>\n",
       "  <th>PN</th>        <td>   -0.4561</td> <td>    0.014</td> <td>  -33.013</td> <td> 0.000</td> <td>   -0.483</td> <td>   -0.429</td>\n",
       "</tr>\n",
       "<tr>\n",
       "  <th>N</th>         <td>   -0.0438</td> <td>    0.000</td> <td>  -89.263</td> <td> 0.000</td> <td>   -0.045</td> <td>   -0.043</td>\n",
       "</tr>\n",
       "</table>"
      ],
      "text/latex": [
       "\\begin{center}\n",
       "\\begin{tabular}{lclc}\n",
       "\\toprule\n",
       "\\textbf{Dep. Variable:}   &       VOT2       & \\textbf{  No. Observations:  } &   167003    \\\\\n",
       "\\textbf{Model:}           &      Logit       & \\textbf{  Df Residuals:      } &   166998    \\\\\n",
       "\\textbf{Method:}          &       MLE        & \\textbf{  Df Model:          } &        4    \\\\\n",
       "\\textbf{Date:}            & Wed, 08 Jan 2025 & \\textbf{  Pseudo R-squ.:     } &  0.06880    \\\\\n",
       "\\textbf{Time:}            &     01:41:20     & \\textbf{  Log-Likelihood:    } &   -81496.   \\\\\n",
       "\\textbf{converged:}       &       True       & \\textbf{  LL-Null:           } &   -87517.   \\\\\n",
       "\\textbf{Covariance Type:} &    nonrobust     & \\textbf{  LLR p-value:       } &    0.000    \\\\\n",
       "\\bottomrule\n",
       "\\end{tabular}\n",
       "\\begin{tabular}{lcccccc}\n",
       "                   & \\textbf{coef} & \\textbf{std err} & \\textbf{z} & \\textbf{P$> |$z$|$} & \\textbf{[0.025} & \\textbf{0.975]}  \\\\\n",
       "\\midrule\n",
       "\\textbf{Intercept} &       1.6227  &        0.008     &   212.945  &         0.000        &        1.608    &        1.638     \\\\\n",
       "\\textbf{PP}        &       0.2535  &        0.008     &    33.344  &         0.000        &        0.239    &        0.268     \\\\\n",
       "\\textbf{NN}        &      -0.5466  &        0.040     &   -13.631  &         0.000        &       -0.625    &       -0.468     \\\\\n",
       "\\textbf{PN}        &      -0.4561  &        0.014     &   -33.013  &         0.000        &       -0.483    &       -0.429     \\\\\n",
       "\\textbf{N}         &      -0.0438  &        0.000     &   -89.263  &         0.000        &       -0.045    &       -0.043     \\\\\n",
       "\\bottomrule\n",
       "\\end{tabular}\n",
       "%\\caption{Logit Regression Results}\n",
       "\\end{center}"
      ],
      "text/plain": [
       "<class 'statsmodels.iolib.summary.Summary'>\n",
       "\"\"\"\n",
       "                           Logit Regression Results                           \n",
       "==============================================================================\n",
       "Dep. Variable:                   VOT2   No. Observations:               167003\n",
       "Model:                          Logit   Df Residuals:                   166998\n",
       "Method:                           MLE   Df Model:                            4\n",
       "Date:                Wed, 08 Jan 2025   Pseudo R-squ.:                 0.06880\n",
       "Time:                        01:41:20   Log-Likelihood:                -81496.\n",
       "converged:                       True   LL-Null:                       -87517.\n",
       "Covariance Type:            nonrobust   LLR p-value:                     0.000\n",
       "==============================================================================\n",
       "                 coef    std err          z      P>|z|      [0.025      0.975]\n",
       "------------------------------------------------------------------------------\n",
       "Intercept      1.6227      0.008    212.945      0.000       1.608       1.638\n",
       "PP             0.2535      0.008     33.344      0.000       0.239       0.268\n",
       "NN            -0.5466      0.040    -13.631      0.000      -0.625      -0.468\n",
       "PN            -0.4561      0.014    -33.013      0.000      -0.483      -0.429\n",
       "N             -0.0438      0.000    -89.263      0.000      -0.045      -0.043\n",
       "==============================================================================\n",
       "\"\"\""
      ]
     },
     "execution_count": 87,
     "metadata": {},
     "output_type": "execute_result"
    }
   ],
   "source": [
    "smf.logit(\"VOT2 ~ PP + NN + PN + N\" , data=merged_df).fit().summary()"
   ]
  },
  {
   "cell_type": "markdown",
   "id": "db15d090",
   "metadata": {},
   "source": [
    "**3.8** **/Discuss:**/   Explain what the coefficient associated with `PP` means in the first regression. Is it in accordance with structural balance theory?"
   ]
  },
  {
   "cell_type": "markdown",
   "id": "48845787",
   "metadata": {},
   "source": [
    "**A3.8** *YOUR ANSWER HERE*"
   ]
  },
  {
   "cell_type": "markdown",
   "id": "49752dbb",
   "metadata": {},
   "source": [
    "**3.9** **/Discuss:**/   Compare the coefficients associated with `PN` and `NN` in the first vs. the second regression. Present a reason that may explain this difference."
   ]
  },
  {
   "cell_type": "markdown",
   "id": "8ab7612b",
   "metadata": {},
   "source": [
    "**A3.9**  *YOUR ANSWER HERE*"
   ]
  },
  {
   "cell_type": "markdown",
   "id": "207c9147",
   "metadata": {},
   "source": [
    "---"
   ]
  }
 ],
 "metadata": {
  "kernelspec": {
   "display_name": "ada",
   "language": "python",
   "name": "python3"
  },
  "language_info": {
   "codemirror_mode": {
    "name": "ipython",
    "version": 3
   },
   "file_extension": ".py",
   "mimetype": "text/x-python",
   "name": "python",
   "nbconvert_exporter": "python",
   "pygments_lexer": "ipython3",
   "version": "3.11.9"
  }
 },
 "nbformat": 4,
 "nbformat_minor": 5
}
